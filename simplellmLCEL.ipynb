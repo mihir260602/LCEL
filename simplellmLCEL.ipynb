{
 "cells": [
  {
   "cell_type": "markdown",
   "metadata": {},
   "source": [
    "### Build a Simple LLM Application with LCEL\n",
    "In this quickstart we'll show you how to build a simple LLM application with LangChain. This application will translate text from English into another language. This is a relatively simple LLM application - it's just a single LLM call plus some prompting. Still, this is a great way to get started with LangChain - a lot of features can be built with just some prompting and an LLM call!\n",
    "\n",
    "After seeing this video, you'll have a high level overview of:\n",
    "\n",
    "- Using language models\n",
    "\n",
    "- Using PromptTemplates and OutputParsers\n",
    "\n",
    "- Using LangChain Expression Language (LCEL) to chain components together\n",
    "\n",
    "- Debugging and tracing your application using LangSmith\n",
    "\n",
    "- Deploying your application with LangServe"
   ]
  },
  {
   "cell_type": "code",
   "execution_count": 21,
   "metadata": {},
   "outputs": [
    {
     "name": "stdout",
     "output_type": "stream",
     "text": [
      "Requirement already satisfied: langchain in d:\\projects\\project of 16 aug\\4-rag document q&a\\venv\\lib\\site-packages (0.2.13)\n",
      "Requirement already satisfied: langchain_groq in d:\\projects\\project of 16 aug\\4-rag document q&a\\venv\\lib\\site-packages (0.1.9)\n",
      "Requirement already satisfied: langchain_core in d:\\projects\\project of 16 aug\\4-rag document q&a\\venv\\lib\\site-packages (0.2.30)\n",
      "Requirement already satisfied: streamlit in d:\\projects\\project of 16 aug\\4-rag document q&a\\venv\\lib\\site-packages (1.37.1)\n",
      "Requirement already satisfied: PyYAML>=5.3 in d:\\projects\\project of 16 aug\\4-rag document q&a\\venv\\lib\\site-packages (from langchain) (6.0.2)\n",
      "Requirement already satisfied: SQLAlchemy<3,>=1.4 in d:\\projects\\project of 16 aug\\4-rag document q&a\\venv\\lib\\site-packages (from langchain) (2.0.32)\n",
      "Requirement already satisfied: aiohttp<4.0.0,>=3.8.3 in d:\\projects\\project of 16 aug\\4-rag document q&a\\venv\\lib\\site-packages (from langchain) (3.10.3)\n",
      "Requirement already satisfied: async-timeout<5.0.0,>=4.0.0 in d:\\projects\\project of 16 aug\\4-rag document q&a\\venv\\lib\\site-packages (from langchain) (4.0.3)\n",
      "Requirement already satisfied: langchain-text-splitters<0.3.0,>=0.2.0 in d:\\projects\\project of 16 aug\\4-rag document q&a\\venv\\lib\\site-packages (from langchain) (0.2.2)\n",
      "Requirement already satisfied: langsmith<0.2.0,>=0.1.17 in d:\\projects\\project of 16 aug\\4-rag document q&a\\venv\\lib\\site-packages (from langchain) (0.1.99)\n",
      "Requirement already satisfied: numpy<2,>=1 in d:\\projects\\project of 16 aug\\4-rag document q&a\\venv\\lib\\site-packages (from langchain) (1.26.4)\n",
      "Requirement already satisfied: pydantic<3,>=1 in d:\\projects\\project of 16 aug\\4-rag document q&a\\venv\\lib\\site-packages (from langchain) (2.8.2)\n",
      "Requirement already satisfied: requests<3,>=2 in d:\\projects\\project of 16 aug\\4-rag document q&a\\venv\\lib\\site-packages (from langchain) (2.32.3)\n",
      "Requirement already satisfied: tenacity!=8.4.0,<9.0.0,>=8.1.0 in d:\\projects\\project of 16 aug\\4-rag document q&a\\venv\\lib\\site-packages (from langchain) (8.5.0)\n",
      "Requirement already satisfied: groq<1,>=0.4.1 in d:\\projects\\project of 16 aug\\4-rag document q&a\\venv\\lib\\site-packages (from langchain_groq) (0.9.0)\n",
      "Requirement already satisfied: jsonpatch<2.0,>=1.33 in d:\\projects\\project of 16 aug\\4-rag document q&a\\venv\\lib\\site-packages (from langchain_core) (1.33)\n",
      "Requirement already satisfied: packaging<25,>=23.2 in d:\\projects\\project of 16 aug\\4-rag document q&a\\venv\\lib\\site-packages (from langchain_core) (24.1)\n",
      "Requirement already satisfied: typing-extensions>=4.7 in d:\\projects\\project of 16 aug\\4-rag document q&a\\venv\\lib\\site-packages (from langchain_core) (4.12.2)\n",
      "Requirement already satisfied: altair<6,>=4.0 in d:\\projects\\project of 16 aug\\4-rag document q&a\\venv\\lib\\site-packages (from streamlit) (5.4.0)\n",
      "Requirement already satisfied: blinker<2,>=1.0.0 in d:\\projects\\project of 16 aug\\4-rag document q&a\\venv\\lib\\site-packages (from streamlit) (1.8.2)\n",
      "Requirement already satisfied: cachetools<6,>=4.0 in d:\\projects\\project of 16 aug\\4-rag document q&a\\venv\\lib\\site-packages (from streamlit) (5.4.0)\n",
      "Requirement already satisfied: click<9,>=7.0 in d:\\projects\\project of 16 aug\\4-rag document q&a\\venv\\lib\\site-packages (from streamlit) (8.1.7)\n",
      "Requirement already satisfied: pandas<3,>=1.3.0 in d:\\projects\\project of 16 aug\\4-rag document q&a\\venv\\lib\\site-packages (from streamlit) (2.2.2)\n",
      "Requirement already satisfied: pillow<11,>=7.1.0 in d:\\projects\\project of 16 aug\\4-rag document q&a\\venv\\lib\\site-packages (from streamlit) (10.4.0)\n",
      "Requirement already satisfied: protobuf<6,>=3.20 in d:\\projects\\project of 16 aug\\4-rag document q&a\\venv\\lib\\site-packages (from streamlit) (4.25.4)\n",
      "Requirement already satisfied: pyarrow>=7.0 in d:\\projects\\project of 16 aug\\4-rag document q&a\\venv\\lib\\site-packages (from streamlit) (17.0.0)\n",
      "Requirement already satisfied: rich<14,>=10.14.0 in d:\\projects\\project of 16 aug\\4-rag document q&a\\venv\\lib\\site-packages (from streamlit) (13.7.1)\n",
      "Requirement already satisfied: toml<2,>=0.10.1 in d:\\projects\\project of 16 aug\\4-rag document q&a\\venv\\lib\\site-packages (from streamlit) (0.10.2)\n",
      "Requirement already satisfied: gitpython!=3.1.19,<4,>=3.0.7 in d:\\projects\\project of 16 aug\\4-rag document q&a\\venv\\lib\\site-packages (from streamlit) (3.1.43)\n",
      "Requirement already satisfied: pydeck<1,>=0.8.0b4 in d:\\projects\\project of 16 aug\\4-rag document q&a\\venv\\lib\\site-packages (from streamlit) (0.9.1)\n",
      "Requirement already satisfied: tornado<7,>=6.0.3 in d:\\projects\\project of 16 aug\\4-rag document q&a\\venv\\lib\\site-packages (from streamlit) (6.4.1)\n",
      "Requirement already satisfied: watchdog<5,>=2.1.5 in d:\\projects\\project of 16 aug\\4-rag document q&a\\venv\\lib\\site-packages (from streamlit) (4.0.2)\n",
      "Requirement already satisfied: aiohappyeyeballs>=2.3.0 in d:\\projects\\project of 16 aug\\4-rag document q&a\\venv\\lib\\site-packages (from aiohttp<4.0.0,>=3.8.3->langchain) (2.3.5)\n",
      "Requirement already satisfied: aiosignal>=1.1.2 in d:\\projects\\project of 16 aug\\4-rag document q&a\\venv\\lib\\site-packages (from aiohttp<4.0.0,>=3.8.3->langchain) (1.3.1)\n",
      "Requirement already satisfied: attrs>=17.3.0 in d:\\projects\\project of 16 aug\\4-rag document q&a\\venv\\lib\\site-packages (from aiohttp<4.0.0,>=3.8.3->langchain) (24.2.0)\n",
      "Requirement already satisfied: frozenlist>=1.1.1 in d:\\projects\\project of 16 aug\\4-rag document q&a\\venv\\lib\\site-packages (from aiohttp<4.0.0,>=3.8.3->langchain) (1.4.1)\n",
      "Requirement already satisfied: multidict<7.0,>=4.5 in d:\\projects\\project of 16 aug\\4-rag document q&a\\venv\\lib\\site-packages (from aiohttp<4.0.0,>=3.8.3->langchain) (6.0.5)\n",
      "Requirement already satisfied: yarl<2.0,>=1.0 in d:\\projects\\project of 16 aug\\4-rag document q&a\\venv\\lib\\site-packages (from aiohttp<4.0.0,>=3.8.3->langchain) (1.9.4)\n",
      "Requirement already satisfied: jinja2 in d:\\projects\\project of 16 aug\\4-rag document q&a\\venv\\lib\\site-packages (from altair<6,>=4.0->streamlit) (3.1.4)\n",
      "Requirement already satisfied: jsonschema>=3.0 in d:\\projects\\project of 16 aug\\4-rag document q&a\\venv\\lib\\site-packages (from altair<6,>=4.0->streamlit) (4.23.0)\n",
      "Requirement already satisfied: narwhals>=1.1.0 in d:\\projects\\project of 16 aug\\4-rag document q&a\\venv\\lib\\site-packages (from altair<6,>=4.0->streamlit) (1.4.0)\n",
      "Requirement already satisfied: colorama in d:\\projects\\project of 16 aug\\4-rag document q&a\\venv\\lib\\site-packages (from click<9,>=7.0->streamlit) (0.4.6)\n",
      "Requirement already satisfied: gitdb<5,>=4.0.1 in d:\\projects\\project of 16 aug\\4-rag document q&a\\venv\\lib\\site-packages (from gitpython!=3.1.19,<4,>=3.0.7->streamlit) (4.0.11)\n",
      "Requirement already satisfied: anyio<5,>=3.5.0 in d:\\projects\\project of 16 aug\\4-rag document q&a\\venv\\lib\\site-packages (from groq<1,>=0.4.1->langchain_groq) (4.4.0)\n",
      "Requirement already satisfied: distro<2,>=1.7.0 in d:\\projects\\project of 16 aug\\4-rag document q&a\\venv\\lib\\site-packages (from groq<1,>=0.4.1->langchain_groq) (1.9.0)\n",
      "Requirement already satisfied: httpx<1,>=0.23.0 in d:\\projects\\project of 16 aug\\4-rag document q&a\\venv\\lib\\site-packages (from groq<1,>=0.4.1->langchain_groq) (0.27.0)\n",
      "Requirement already satisfied: sniffio in d:\\projects\\project of 16 aug\\4-rag document q&a\\venv\\lib\\site-packages (from groq<1,>=0.4.1->langchain_groq) (1.3.1)\n",
      "Requirement already satisfied: jsonpointer>=1.9 in d:\\projects\\project of 16 aug\\4-rag document q&a\\venv\\lib\\site-packages (from jsonpatch<2.0,>=1.33->langchain_core) (3.0.0)\n",
      "Requirement already satisfied: orjson<4.0.0,>=3.9.14 in d:\\projects\\project of 16 aug\\4-rag document q&a\\venv\\lib\\site-packages (from langsmith<0.2.0,>=0.1.17->langchain) (3.10.7)\n",
      "Requirement already satisfied: python-dateutil>=2.8.2 in d:\\projects\\project of 16 aug\\4-rag document q&a\\venv\\lib\\site-packages (from pandas<3,>=1.3.0->streamlit) (2.9.0.post0)\n",
      "Requirement already satisfied: pytz>=2020.1 in d:\\projects\\project of 16 aug\\4-rag document q&a\\venv\\lib\\site-packages (from pandas<3,>=1.3.0->streamlit) (2024.1)\n",
      "Requirement already satisfied: tzdata>=2022.7 in d:\\projects\\project of 16 aug\\4-rag document q&a\\venv\\lib\\site-packages (from pandas<3,>=1.3.0->streamlit) (2024.1)\n",
      "Requirement already satisfied: annotated-types>=0.4.0 in d:\\projects\\project of 16 aug\\4-rag document q&a\\venv\\lib\\site-packages (from pydantic<3,>=1->langchain) (0.7.0)\n",
      "Requirement already satisfied: pydantic-core==2.20.1 in d:\\projects\\project of 16 aug\\4-rag document q&a\\venv\\lib\\site-packages (from pydantic<3,>=1->langchain) (2.20.1)\n",
      "Requirement already satisfied: charset-normalizer<4,>=2 in d:\\projects\\project of 16 aug\\4-rag document q&a\\venv\\lib\\site-packages (from requests<3,>=2->langchain) (3.3.2)\n",
      "Requirement already satisfied: idna<4,>=2.5 in d:\\projects\\project of 16 aug\\4-rag document q&a\\venv\\lib\\site-packages (from requests<3,>=2->langchain) (3.7)\n",
      "Requirement already satisfied: urllib3<3,>=1.21.1 in d:\\projects\\project of 16 aug\\4-rag document q&a\\venv\\lib\\site-packages (from requests<3,>=2->langchain) (2.2.2)\n",
      "Requirement already satisfied: certifi>=2017.4.17 in d:\\projects\\project of 16 aug\\4-rag document q&a\\venv\\lib\\site-packages (from requests<3,>=2->langchain) (2024.7.4)\n",
      "Requirement already satisfied: markdown-it-py>=2.2.0 in d:\\projects\\project of 16 aug\\4-rag document q&a\\venv\\lib\\site-packages (from rich<14,>=10.14.0->streamlit) (3.0.0)\n",
      "Requirement already satisfied: pygments<3.0.0,>=2.13.0 in d:\\projects\\project of 16 aug\\4-rag document q&a\\venv\\lib\\site-packages (from rich<14,>=10.14.0->streamlit) (2.18.0)\n",
      "Requirement already satisfied: greenlet!=0.4.17 in d:\\projects\\project of 16 aug\\4-rag document q&a\\venv\\lib\\site-packages (from SQLAlchemy<3,>=1.4->langchain) (3.0.3)\n",
      "Requirement already satisfied: exceptiongroup>=1.0.2 in d:\\projects\\project of 16 aug\\4-rag document q&a\\venv\\lib\\site-packages (from anyio<5,>=3.5.0->groq<1,>=0.4.1->langchain_groq) (1.2.2)\n",
      "Requirement already satisfied: smmap<6,>=3.0.1 in d:\\projects\\project of 16 aug\\4-rag document q&a\\venv\\lib\\site-packages (from gitdb<5,>=4.0.1->gitpython!=3.1.19,<4,>=3.0.7->streamlit) (5.0.1)\n",
      "Requirement already satisfied: httpcore==1.* in d:\\projects\\project of 16 aug\\4-rag document q&a\\venv\\lib\\site-packages (from httpx<1,>=0.23.0->groq<1,>=0.4.1->langchain_groq) (1.0.5)\n",
      "Requirement already satisfied: h11<0.15,>=0.13 in d:\\projects\\project of 16 aug\\4-rag document q&a\\venv\\lib\\site-packages (from httpcore==1.*->httpx<1,>=0.23.0->groq<1,>=0.4.1->langchain_groq) (0.14.0)\n",
      "Requirement already satisfied: MarkupSafe>=2.0 in d:\\projects\\project of 16 aug\\4-rag document q&a\\venv\\lib\\site-packages (from jinja2->altair<6,>=4.0->streamlit) (2.1.5)\n",
      "Requirement already satisfied: jsonschema-specifications>=2023.03.6 in d:\\projects\\project of 16 aug\\4-rag document q&a\\venv\\lib\\site-packages (from jsonschema>=3.0->altair<6,>=4.0->streamlit) (2023.12.1)\n",
      "Requirement already satisfied: referencing>=0.28.4 in d:\\projects\\project of 16 aug\\4-rag document q&a\\venv\\lib\\site-packages (from jsonschema>=3.0->altair<6,>=4.0->streamlit) (0.35.1)\n",
      "Requirement already satisfied: rpds-py>=0.7.1 in d:\\projects\\project of 16 aug\\4-rag document q&a\\venv\\lib\\site-packages (from jsonschema>=3.0->altair<6,>=4.0->streamlit) (0.20.0)\n",
      "Requirement already satisfied: mdurl~=0.1 in d:\\projects\\project of 16 aug\\4-rag document q&a\\venv\\lib\\site-packages (from markdown-it-py>=2.2.0->rich<14,>=10.14.0->streamlit) (0.1.2)\n",
      "Requirement already satisfied: six>=1.5 in d:\\projects\\project of 16 aug\\4-rag document q&a\\venv\\lib\\site-packages (from python-dateutil>=2.8.2->pandas<3,>=1.3.0->streamlit) (1.16.0)\n"
     ]
    }
   ],
   "source": [
    "!pip install langchain langchain_groq langchain_core streamlit"
   ]
  },
  {
   "cell_type": "code",
   "execution_count": 22,
   "metadata": {},
   "outputs": [
    {
     "data": {
      "text/plain": [
       "'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'"
      ]
     },
     "execution_count": 22,
     "metadata": {},
     "output_type": "execute_result"
    }
   ],
   "source": [
    "import os\n",
    "from dotenv import load_dotenv\n",
    "load_dotenv()\n",
    "\n",
    "import openai\n",
    "openai.api_key = os.getenv(\"OPENAI_API_KEY\")\n",
    "\n",
    "groq_api_key = os.getenv(\"GROQ_API_KEY\")\n",
    "groq_api_key"
   ]
  },
  {
   "cell_type": "code",
   "execution_count": 23,
   "metadata": {},
   "outputs": [],
   "source": [
    "from langchain_groq import ChatGroq\n",
    "from langchain_core.prompts import ChatPromptTemplate\n",
    "from langchain_core.output_parsers import StrOutputParser"
   ]
  },
  {
   "cell_type": "code",
   "execution_count": 24,
   "metadata": {},
   "outputs": [
    {
     "data": {
      "text/plain": [
       "ChatGroq(client=<groq.resources.chat.completions.Completions object at 0x0000022488AD4FD0>, async_client=<groq.resources.chat.completions.AsyncCompletions object at 0x0000022488AD5CC0>, model_name='Gemma2-9b-It', groq_api_key=SecretStr('**********'))"
      ]
     },
     "execution_count": 24,
     "metadata": {},
     "output_type": "execute_result"
    }
   ],
   "source": [
    "model = ChatGroq(model=\"Gemma2-9b-It\", groq_api_key=groq_api_key)\n",
    "model"
   ]
  },
  {
   "cell_type": "code",
   "execution_count": 25,
   "metadata": {},
   "outputs": [],
   "source": [
    "LANGUAGE_CODES = {\n",
    "    \"English\": \"en\",\n",
    "    \"Spanish\": \"es\",\n",
    "    \"French\": \"fr\",\n",
    "    \"German\": \"de\",\n",
    "    \"Chinese\": \"zh\",\n",
    "    \"Japanese\": \"ja\",\n",
    "    \"Korean\": \"ko\",\n",
    "    \"Russian\": \"ru\",\n",
    "    \"Italian\": \"it\",\n",
    "    \"Portuguese\": \"pt\",\n",
    "    \"Hindi\": \"hi\",\n",
    "    \"Punjabi\": \"pa\",\n",
    "    \"Marathi\": \"mr\"\n",
    "}"
   ]
  },
  {
   "cell_type": "code",
   "execution_count": 26,
   "metadata": {},
   "outputs": [],
   "source": [
    "def translate_text(text, source_language, target_language):\n",
    "    # Create prompt template\n",
    "    system_template = \"Translate the following text from {source_language} to {target_language}:\"\n",
    "    prompt = ChatPromptTemplate.from_messages([\n",
    "        ('system', system_template),\n",
    "        ('user', '{text}')\n",
    "    ])\n",
    "\n",
    "    # Create chain\n",
    "    parser = StrOutputParser()\n",
    "    chain = prompt | model | parser\n",
    "\n",
    "    # Prepare messages\n",
    "    messages = {\n",
    "        \"source_language\": LANGUAGE_CODES[source_language],\n",
    "        \"target_language\": LANGUAGE_CODES[target_language],\n",
    "        \"text\": text\n",
    "    }\n",
    "\n",
    "    # Invoke the chain\n",
    "    result = chain.invoke(messages)\n",
    "    return result"
   ]
  },
  {
   "cell_type": "code",
   "execution_count": 27,
   "metadata": {},
   "outputs": [],
   "source": [
    "text_to_translate = \"Hello, how are you?\"\n",
    "source_lang = \"English\"\n",
    "target_lang = \"Hindi\""
   ]
  },
  {
   "cell_type": "code",
   "execution_count": 28,
   "metadata": {},
   "outputs": [
    {
     "data": {
      "text/plain": [
       "'नमस्ते, आप कैसे हैं? (Namaste, aap kaise hain?) \\n'"
      ]
     },
     "execution_count": 28,
     "metadata": {},
     "output_type": "execute_result"
    }
   ],
   "source": [
    "result = translate_text(text_to_translate, source_lang, target_lang)\n",
    "result"
   ]
  },
  {
   "cell_type": "code",
   "execution_count": 29,
   "metadata": {},
   "outputs": [
    {
     "name": "stdout",
     "output_type": "stream",
     "text": [
      "Translated text: नमस्ते, आप कैसे हैं? (Namaste, aap kaise hain?) \n",
      "\n"
     ]
    }
   ],
   "source": [
    "print(f\"Translated text: {result}\")"
   ]
  }
 ],
 "metadata": {
  "kernelspec": {
   "display_name": "Python 3",
   "language": "python",
   "name": "python3"
  },
  "language_info": {
   "codemirror_mode": {
    "name": "ipython",
    "version": 3
   },
   "file_extension": ".py",
   "mimetype": "text/x-python",
   "name": "python",
   "nbconvert_exporter": "python",
   "pygments_lexer": "ipython3",
   "version": "3.10.0"
  }
 },
 "nbformat": 4,
 "nbformat_minor": 2
}
